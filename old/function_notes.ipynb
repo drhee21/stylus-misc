{
 "cells": [
  {
   "cell_type": "markdown",
   "id": "8948d346-3357-4201-b310-ea683d19d073",
   "metadata": {},
   "source": [
    "**WARNING:** Meant to be a helpful reference and not complete documentation. May not be completely accurate, this is just my understanding of what's going on.\\\n",
    "See documentation [here!](https://github.com/holiday-pettijohn/Stylus_Scoring_Generalization/blob/main/Documentation/matching_api.md)"
   ]
  },
  {
   "cell_type": "markdown",
   "id": "b322003f-3c94-44f5-9081-193d8c98d526",
   "metadata": {},
   "source": [
    "## Terminology"
   ]
  },
  {
   "cell_type": "markdown",
   "id": "36869146-13df-466f-bf04-45b13867d3ae",
   "metadata": {},
   "source": [
    "archetype: perfect Han character, original data from .han files\\\n",
    "bases: ATGC string\\\n",
    "gene: imperfect representation of Han character, data to be scored from .gene files\\\n",
    "reference character: unicode value for han character. *example: 4EFB*"
   ]
  },
  {
   "cell_type": "markdown",
   "id": "c3396f29-a5e8-4d12-9128-acabde6ba094",
   "metadata": {},
   "source": [
    "## Function Reference"
   ]
  },
  {
   "cell_type": "markdown",
   "id": "ccdd5ce2-1b7d-4843-bae8-422f8253fe92",
   "metadata": {},
   "source": [
    "**exhaustScore:** Returns the maximum exhaustive score based on the reference character\n",
    "\n",
    "**extractBases:** Returns loadGeometryBases output for one gene (so not all arrays) but excluding g_data and f_names\n",
    "\n",
    "**loadGeometryBases:** Returns the values below for each gene (in order) based on the directory with genes. __Return values will all be arrays of the output described because it returns each value for every gene.__\n",
    "- g_data: xmlToGeometry output (as a list)\n",
    "    - g: geometric strokes\n",
    "    - l: \"progress percentage\" for each geometric stroke\n",
    "- han_chars: reference character of the gene (each gene file already has a reference character associated with it)\n",
    "- base_data: bases of the gene\n",
    "- stroke_sets: gene strokes\n",
    "- stroke_orders: gene stroke order\n",
    "- f_names: file name of the gene\n",
    "\n",
    "**loadRef:** Returns a list of archetype strokes and the \"progress percentages\" for each stroke based on a reference character\n",
    "- Process: Goes into the Reference directory > Gets archetype that matches reference character > Returns relevant data\n",
    "- ref_g: list of strokes\n",
    "- ref_l: fractional distances\n",
    "- output_size: size for the bounding box (?)\n",
    "\n",
    "**strokeErrorMatrix:** Returns a matrix of errors between every geometric stroke (columns) and archetype stroke (rows)\n",
    "\n",
    "**getXmlScore:** Returns a score based on XML\n",
    "  \n",
    "**minXml:** Returns XML to give to Stylus API\n",
    "\n",
    "**xmlToGeometry:** Returns a list of geometric strokes and the \"progress percentages\" for each stroke based on a gene file and a bounding box\n",
    "- Process: Goes into gene file provided > Returns relevant data"
   ]
  },
  {
   "cell_type": "markdown",
   "id": "cd60d5a4-0088-46aa-87e2-ca7291ee6027",
   "metadata": {},
   "source": [
    "## Strokes"
   ]
  },
  {
   "cell_type": "markdown",
   "id": "0ffcb0e0-d6b6-47eb-876b-9676a17f2340",
   "metadata": {},
   "source": [
    "Both archetype strokes and geometric strokes consist of location points on an (x, y) scale (incoherent vectors are filtered out). Gene strokes correspond to the position of the bases."
   ]
  },
  {
   "cell_type": "markdown",
   "id": "6362d32a-b769-4328-a089-5e47d752e46a",
   "metadata": {},
   "source": [
    "## Overall Process"
   ]
  },
  {
   "cell_type": "markdown",
   "id": "55e94b9c-79f6-47e2-b072-625b6e0137e6",
   "metadata": {},
   "source": [
    "__Exhaustive:__\n",
    "1. Load Han archetype data (loadRef)\n",
    "2. Load every gene's data from directory (loadGeometryBases)\n",
    "3. Iterate over every gene in the directory\n",
    "4. Scores the archetype/gene combo for every possible stroke order (minXml, getXmlScore)\n",
    "5. Iterate over each gene's exhaustive scores and return maximum score\n",
    "\n",
    "__Heuristic (Greedy):__\n",
    "1. Load Han archetype data (loadRef)\n",
    "2. Load every gene's data from directory (loadGeometryBases)\n",
    "3. Iterate over every gene in the directory\n",
    "4. Get error between archetype/gene strokes (strokeErrorMatrix)\n",
    "5. Retrieve the lengths of each archetype stroke (getStrokeLen)\n",
    "6. Iterate over every archetype stroke\n",
    "7. Take the largest archetype stroke and access the row it corresponds to on the error matrix\n",
    "8. Find the geometric stroke with the smallest error\n",
    "9. Add the stroke to the stroke order *(example: the geometric stroke 4 had the smallest error when searching for archetype stroke 1, so stroke_map[4] = 1)*\n",
    "10. Remove the largest archetype stroke from the list and make sure no geometric stroke is used twice \n",
    "11. Score the archetype/gene combo using the stroke order obtained through the heuristic algorithm (minXml, getXmlScore)\n",
    "\n",
    "The exhaustive will test every single possible stroke order while the heuristic narrows it down to a single stroke order."
   ]
  },
  {
   "cell_type": "code",
   "execution_count": null,
   "id": "9fe32028-218a-4481-9c4c-49d783ad3d1f",
   "metadata": {},
   "outputs": [],
   "source": []
  }
 ],
 "metadata": {
  "kernelspec": {
   "display_name": "Python 3 (ipykernel)",
   "language": "python",
   "name": "python3"
  },
  "language_info": {
   "codemirror_mode": {
    "name": "ipython",
    "version": 3
   },
   "file_extension": ".py",
   "mimetype": "text/x-python",
   "name": "python",
   "nbconvert_exporter": "python",
   "pygments_lexer": "ipython3",
   "version": "3.11.7"
  }
 },
 "nbformat": 4,
 "nbformat_minor": 5
}
