{
 "cells": [
  {
   "cell_type": "code",
   "execution_count": 20,
   "id": "2ac1fd40-cfc4-4514-8cee-eff36c6a74c2",
   "metadata": {},
   "outputs": [],
   "source": [
    "from itertools import permutations\n",
    "from pathlib import Path\n",
    "\n",
    "import numpy as np\n",
    "\n",
    "from score_strokes import strokeErrorMatrix\n",
    "from xmlparse import getXmlScore, loadGeometryBases, loadRef, minXml"
   ]
  },
  {
   "cell_type": "code",
   "execution_count": 21,
   "id": "53e0243a-16ef-4992-a40a-4bfbb1a269a1",
   "metadata": {},
   "outputs": [
    {
     "name": "stdout",
     "output_type": "stream",
     "text": [
      "([], [])\n"
     ]
    }
   ],
   "source": [
    "# Testing a dynamic programming algorithm\n",
    "\n",
    "def dynamic(ref_char, ref_data, char_data):\n",
    "    ref, p_ref, _ = ref_data\n",
    "    g_data, _, base_data, stroke_sets, _, f_names = char_data\n",
    "    stroke_priority = permutations(range(0, len(ref)-1))\n",
    "    for (geometry_length, bases, stroke_set, f_name) in zip(g_data, base_data, stroke_sets, f_names):\n",
    "        strokes, p_strokes = geometry_length\n",
    "        error_maps = strokeErrorMatrix(strokes, ref, p_strokes, p_ref)\n",
    "        stroke_maps = []\n",
    "        heuristic_scores = []\n",
    "        # Find candidate stroke orders\n",
    "        for priority in stroke_priority:\n",
    "            for i in priority:\n",
    "                stroke_map = np.full(len(strokes), -1)\n",
    "                smallerror = np.argmin(error_maps[i]) # retrieve smallest error for current archetype stroke\n",
    "                while(stroke_map[smallerror]!=-1):\n",
    "                    # change small error so that we do not repeat over indexes that are already taken\n",
    "                    # just keeps repeating until we land on an index that doesn't already have a value in its place\n",
    "                    error_maps[i][smallerror] = 10000\n",
    "                    smallerror = np.argmin(error_maps[i])\n",
    "                stroke_map[smallerror] = i\n",
    "            if any(np.array_equal(stroke_map, m) for m in stroke_maps):\n",
    "                stroke_maps.append(stroke_map)\n",
    "        # Retrieve scores for each candidate stroke order\n",
    "        for s in stroke_maps:\n",
    "            heuristic_xml = minXml(ref_char, bases, stroke_set, np.array(s)+1)\n",
    "            heuristic_score = getXmlScore(heuristic_xml)\n",
    "            heuristic_scores.append(heuristic_score)\n",
    "    return heuristic_scores, stroke_maps\n",
    "\n",
    "ref_dir = f'{str(Path.home())}/Stylus_Scoring_Generalization/Reference' # archetype directory\n",
    "data_dir = f'{str(Path.home())}/Stylus_Scoring_Generalization/NewGenes' # gene directory\n",
    "ref_char = \"6709\"\n",
    "\n",
    "ref_data = loadRef(ref_char, ref_dir)\n",
    "char_data = loadGeometryBases(data_dir, ref_data[2])\n",
    "\n",
    "print(dynamic(ref_char, ref_data, char_data))"
   ]
  },
  {
   "cell_type": "code",
   "execution_count": 22,
   "id": "6cd13462-ab60-4b7e-a59b-8b5a5c1e3636",
   "metadata": {},
   "outputs": [],
   "source": [
    "def compareHeuristic(algo1, algo2):\n",
    "    return"
   ]
  }
 ],
 "metadata": {
  "kernelspec": {
   "display_name": "Python 3 (ipykernel)",
   "language": "python",
   "name": "python3"
  },
  "language_info": {
   "codemirror_mode": {
    "name": "ipython",
    "version": 3
   },
   "file_extension": ".py",
   "mimetype": "text/x-python",
   "name": "python",
   "nbconvert_exporter": "python",
   "pygments_lexer": "ipython3",
   "version": "3.11.7"
  }
 },
 "nbformat": 4,
 "nbformat_minor": 5
}
