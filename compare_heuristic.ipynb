{
 "cells": [
  {
   "cell_type": "code",
   "execution_count": null,
   "id": "2ac1fd40-cfc4-4514-8cee-eff36c6a74c2",
   "metadata": {},
   "outputs": [],
   "source": [
    "from itertools import permutations\n",
    "from pathlib import Path\n",
    "\n",
    "import numpy as np\n",
    "\n",
    "from score_strokes import strokeErrorMatrix\n",
    "from xmlparse import getXmlScore, minXml"
   ]
  },
  {
   "cell_type": "code",
   "execution_count": null,
   "id": "53e0243a-16ef-4992-a40a-4bfbb1a269a1",
   "metadata": {},
   "outputs": [],
   "source": [
    "# Testing a dynamic programming algorithm\n",
    "\n",
    "def dynamic(strokes, ref, p_strokes, p_ref):\n",
    "    error_maps = strokeErrorMatrix(strokes, ref, p_strokes, p_ref)\n",
    "    stroke_maps = []\n",
    "    stroke_priority = permutations(range(0, len(ref)-1))\n",
    "    for i, _ in enumerate(ref):\n",
    "        stroke_map = np.full(len(strokes), -1)\n",
    "        smallerror = np.argmin(error_maps[i]) # retrieve smallest error for current archetype stroke\n",
    "        stroke_maps.append(stroke_map)\n",
    "    return stroke_maps\n",
    "\n",
    "ref_dir = f'{str(Path.home())}/Stylus_Scoring_Generalization/NewRef' # archetype directory\n",
    "data_dir = f'{str(Path.home())}/Stylus_Scoring_Generalization/NewGenes' # gene directory\n",
    "\n",
    "\n",
    "\n",
    "print(dynamic())"
   ]
  },
  {
   "cell_type": "code",
   "execution_count": null,
   "id": "6cd13462-ab60-4b7e-a59b-8b5a5c1e3636",
   "metadata": {},
   "outputs": [],
   "source": [
    "def compareHeuristic(algo1, algo2):\n",
    "    return"
   ]
  }
 ],
 "metadata": {
  "kernelspec": {
   "display_name": "Python 3 (ipykernel)",
   "language": "python",
   "name": "python3"
  },
  "language_info": {
   "codemirror_mode": {
    "name": "ipython",
    "version": 3
   },
   "file_extension": ".py",
   "mimetype": "text/x-python",
   "name": "python",
   "nbconvert_exporter": "python",
   "pygments_lexer": "ipython3",
   "version": "3.11.7"
  }
 },
 "nbformat": 4,
 "nbformat_minor": 5
}
