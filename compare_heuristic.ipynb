{
 "cells": [
  {
   "cell_type": "code",
   "execution_count": null,
   "id": "2ac1fd40-cfc4-4514-8cee-eff36c6a74c2",
   "metadata": {},
   "outputs": [],
   "source": [
    "from itertools import permutations\n",
    "from pathlib import Path\n",
    "\n",
    "import numpy as np\n",
    "\n",
    "from score_strokes import strokeErrorMatrix\n",
    "from xmlparse import getXmlScore, minXml"
   ]
  },
  {
   "cell_type": "code",
   "execution_count": null,
   "id": "78498d28-daf6-418d-89f5-58ad9ff1fff1",
   "metadata": {},
   "outputs": [],
   "source": [
    "# Edited from xmlparse.py\n",
    "def loadRef(han_char, ref_dir = \"Reference\"):\n",
    "    stroke_list = []\n",
    "    frac_dists = []\n",
    "    ref_path = f\"{ref_dir}/{han_char}.han\"\n",
    "    ref_xml = open(ref_path, \"r\").read()\n",
    "    root = xmltodict.parse(ref_xml)\n",
    "    bounds = root[\"hanDefinition\"][\"bounds\"]\n",
    "    x_min, y_min, x_max, y_max = (float(bounds[\"@left\"]), float(bounds[\"@bottom\"]), float(bounds[\"@right\"]), float(bounds[\"@top\"]))\n",
    "    scale = (int(x_max-x_min), int(y_max-y_min))\n",
    "    strokes = root[\"hanDefinition\"][\"strokes\"][\"stroke\"]\n",
    "    if isinstance(strokes, dict):\n",
    "        strokes = [strokes]\n",
    "    for stroke in strokes:\n",
    "        points = stroke[\"points\"][\"forward\"]\n",
    "        point_arr = []\n",
    "        frac_arr = []\n",
    "        for point in points[\"pointDistance\"]:\n",
    "            point_arr.append((float(point[\"@x\"])-x_min,\n",
    "                               float(point[\"@y\"])-y_min))\n",
    "            frac_arr.append(float(point[\"@fractionalDistance\"]))\n",
    "        stroke_list.append(np.array(point_arr))\n",
    "        frac_dists.append(np.array(frac_arr))\n",
    "    return stroke_list, frac_dists, scale\n",
    "\n",
    "# Obtaining scores through heuristic algorithm\n",
    "def heuristicScores(algo, ref_char, ref_data, char_data):\n",
    "    heuristic_alignments = []\n",
    "    heuristic_scores = []\n",
    "    ref_geometry, ref_progress_percentage, output_size = ref_data\n",
    "    g_data, _, base_data, stroke_sets, _, f_names = char_data\n",
    "    for (geometry_length, bases, stroke_set, _, f_name) in zip(g_data, base_data, stroke_sets, _, f_names):\n",
    "        geometry, progress_percentage = geometry_length\n",
    "        heuristic_alignment = np.array(algo(geometry, ref_geometry, progress_percentage, ref_progress_percentage))+1\n",
    "        heuristic_alignments.append(heuristic_alignment)\n",
    "        heuristic_xml = minXml(ref_char, bases, stroke_set, heuristic_alignment)\n",
    "        heuristic_score = getXmlScore(heuristic_xml)\n",
    "        heuristic_scores.append(heuristic_score)\n",
    "    return heuristic_scores, heuristic_alignments"
   ]
  },
  {
   "cell_type": "code",
   "execution_count": null,
   "id": "53e0243a-16ef-4992-a40a-4bfbb1a269a1",
   "metadata": {},
   "outputs": [],
   "source": [
    "# Testing a dynamic programming algorithm\n",
    "\n",
    "def dynamic(strokes, ref, p_strokes, p_ref):\n",
    "    error_maps = strokeErrorMatrix(strokes, ref, p_strokes, p_ref)\n",
    "    stroke_maps = []\n",
    "    stroke_priority = permutations(range(0, len(ref)-1))\n",
    "    for _, priority in enumerate(stroke_priority):\n",
    "        for _, i in priority:\n",
    "            stroke_map = np.full(len(strokes), -1)\n",
    "            smallerror = np.argmin(error_maps[i]) # retrieve smallest error for current archetype stroke\n",
    "            while(stroke_map[smallerror]!=-1):\n",
    "                # change small error so that we do not repeat over indexes that are already taken\n",
    "                # just keeps repeating until we land on an index that doesn't already have a value in its place\n",
    "                error_maps[i][smallerror] = 10000\n",
    "                smallerror = np.argmin(error_maps[i])\n",
    "            stroke_map[smallerror] = i\n",
    "        stroke_maps.append(stroke_map)\n",
    "    return stroke_maps\n",
    "\n",
    "ref_dir = f'{str(Path.home())}/Stylus_Scoring_Generalization/Reference' # archetype directory\n",
    "data_dir = f'{str(Path.home())}/Stylus_Scoring_Generalization/NewGenes' # gene directory\n",
    "\n",
    "\n",
    "\n",
    "print(dynamic())"
   ]
  },
  {
   "cell_type": "code",
   "execution_count": null,
   "id": "6cd13462-ab60-4b7e-a59b-8b5a5c1e3636",
   "metadata": {},
   "outputs": [],
   "source": [
    "def compareHeuristic(algo1, algo2):\n",
    "    return"
   ]
  }
 ],
 "metadata": {
  "kernelspec": {
   "display_name": "Python 3 (ipykernel)",
   "language": "python",
   "name": "python3"
  },
  "language_info": {
   "codemirror_mode": {
    "name": "ipython",
    "version": 3
   },
   "file_extension": ".py",
   "mimetype": "text/x-python",
   "name": "python",
   "nbconvert_exporter": "python",
   "pygments_lexer": "ipython3",
   "version": "3.11.7"
  }
 },
 "nbformat": 4,
 "nbformat_minor": 5
}
