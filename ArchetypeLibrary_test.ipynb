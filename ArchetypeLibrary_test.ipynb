{
 "cells": [
  {
   "cell_type": "code",
   "execution_count": 11,
   "id": "0367e525-fe11-48ce-a56b-825aab680099",
   "metadata": {},
   "outputs": [
    {
     "name": "stdout",
     "output_type": "stream",
     "text": [
      "1\n"
     ]
    }
   ],
   "source": [
    "import os\n",
    "from StrokeDef import loadStrokeDict\n",
    "from archetype_library import loadArchetypeStrokes\n",
    "\n",
    "han_char = \"4EFB\"\n",
    "archetypal_strokes = loadArchetypeStrokes()\n",
    "archetypal_strokes[han_char]\n",
    "for touple in archetypal_strokes[han_char]:\n",
    "    if touple[0] == 'H2':\n",
    "        print(touple[1])"
   ]
  },
  {
   "cell_type": "code",
   "execution_count": 14,
   "id": "885023bb-34d7-4387-998c-68fb1508805f",
   "metadata": {},
   "outputs": [
    {
     "name": "stdout",
     "output_type": "stream",
     "text": [
      "6709\n",
      "H1\n",
      "3\n",
      "P\n",
      "1\n",
      "HZG1\n",
      "1\n",
      "81F3\n",
      "H1\n",
      "3\n",
      "PZ\n",
      "1\n",
      "D1\n",
      "1\n",
      "5408\n",
      "P\n",
      "1\n",
      "N\n",
      "1\n",
      "H1\n",
      "2\n",
      "HZ\n",
      "1\n",
      "5217\n"
     ]
    },
    {
     "ename": "KeyError",
     "evalue": "'5217'",
     "output_type": "error",
     "traceback": [
      "\u001b[0;31m---------------------------------------------------------------------------\u001b[0m",
      "\u001b[0;31mKeyError\u001b[0m                                  Traceback (most recent call last)",
      "Cell \u001b[0;32mIn[14], line 5\u001b[0m\n\u001b[1;32m      3\u001b[0m han_char \u001b[38;5;241m=\u001b[39m file[:\u001b[38;5;241m4\u001b[39m:]\n\u001b[1;32m      4\u001b[0m \u001b[38;5;28mprint\u001b[39m(han_char)\n\u001b[0;32m----> 5\u001b[0m \u001b[38;5;28;01mfor\u001b[39;00m touple \u001b[38;5;129;01min\u001b[39;00m archetypal_strokes[han_char]:\n\u001b[1;32m      6\u001b[0m     \u001b[38;5;28;01mfor\u001b[39;00m name \u001b[38;5;129;01min\u001b[39;00m strokes:\n\u001b[1;32m      7\u001b[0m         \u001b[38;5;28;01mif\u001b[39;00m touple[\u001b[38;5;241m0\u001b[39m] \u001b[38;5;241m==\u001b[39m name:\n",
      "\u001b[0;31mKeyError\u001b[0m: '5217'"
     ]
    }
   ],
   "source": [
    "strokes = loadStrokeDict()\n",
    "for file in os.listdir(\"Reference/6-stroke_characters\"):\n",
    "    han_char = file[:4:]\n",
    "    print(han_char)\n",
    "    for touple in archetypal_strokes[han_char]:\n",
    "        for name in strokes:\n",
    "            if touple[0] == name:\n",
    "                print(name)\n",
    "                print(touple[1])\n",
    "    "
   ]
  },
  {
   "cell_type": "code",
   "execution_count": null,
   "id": "14c4286f-ddad-41dc-b583-97a873cbeeb5",
   "metadata": {},
   "outputs": [],
   "source": []
  }
 ],
 "metadata": {
  "kernelspec": {
   "display_name": "Python 3 (ipykernel)",
   "language": "python",
   "name": "python3"
  },
  "language_info": {
   "codemirror_mode": {
    "name": "ipython",
    "version": 3
   },
   "file_extension": ".py",
   "mimetype": "text/x-python",
   "name": "python",
   "nbconvert_exporter": "python",
   "pygments_lexer": "ipython3",
   "version": "3.11.7"
  }
 },
 "nbformat": 4,
 "nbformat_minor": 5
}
