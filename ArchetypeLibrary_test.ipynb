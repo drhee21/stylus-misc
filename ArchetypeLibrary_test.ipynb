{
 "cells": [
  {
   "cell_type": "code",
   "execution_count": 1,
   "id": "0367e525-fe11-48ce-a56b-825aab680099",
   "metadata": {},
   "outputs": [],
   "source": [
    "import os\n",
    "from StrokeDef import loadStrokeDict\n",
    "from archetype_library import strokeLibrary, load6Strokes\n",
    "\n",
    "han_char = \"4F4D\"\n",
    "archetypal_strokes = strokeLibrary;\n",
    "for touple in archetypal_strokes['7'][han_char]:\n",
    "    if touple[0] == 'H2':\n",
    "        print(touple[1])"
   ]
  },
  {
   "cell_type": "code",
   "execution_count": 2,
   "id": "885023bb-34d7-4387-998c-68fb1508805f",
   "metadata": {},
   "outputs": [
    {
     "name": "stdout",
     "output_type": "stream",
     "text": [
      "89D2\n",
      "P\n",
      "2\n",
      "HP1\n",
      "1\n",
      "H1\n",
      "2\n",
      "S1\n",
      "1\n",
      "4F4D\n",
      "P\n",
      "2\n",
      "S1\n",
      "1\n",
      "D1\n",
      "2\n",
      "H1\n",
      "2\n",
      "5F62\n",
      "H1\n",
      "2\n",
      "P\n",
      "4\n",
      "S1\n",
      "1\n",
      "4F55\n",
      "P\n",
      "1\n",
      "S1\n",
      "2\n",
      "H1\n",
      "2\n",
      "HZ\n",
      "1\n",
      "SG\n",
      "1\n",
      "5E8F\n",
      "D1\n",
      "2\n",
      "H1\n",
      "1\n",
      "P\n",
      "1\n",
      "HG1\n",
      "1\n",
      "S1\n",
      "1\n"
     ]
    }
   ],
   "source": [
    "strokes = loadStrokeDict()\n",
    "for file in os.listdir(\"Reference/7-stroke_characters\"):\n",
    "    han_char = file[:4:]\n",
    "    print(han_char)\n",
    "    for touple in archetypal_strokes[\"7\"][han_char]:\n",
    "        for name in strokes:\n",
    "            if touple[0] == name:\n",
    "                print(name)\n",
    "                print(touple[1])\n",
    "    "
   ]
  },
  {
   "cell_type": "code",
   "execution_count": null,
   "id": "14c4286f-ddad-41dc-b583-97a873cbeeb5",
   "metadata": {},
   "outputs": [],
   "source": []
  }
 ],
 "metadata": {
  "kernelspec": {
   "display_name": "Python 3 (ipykernel)",
   "language": "python",
   "name": "python3"
  },
  "language_info": {
   "codemirror_mode": {
    "name": "ipython",
    "version": 3
   },
   "file_extension": ".py",
   "mimetype": "text/x-python",
   "name": "python",
   "nbconvert_exporter": "python",
   "pygments_lexer": "ipython3",
   "version": "3.11.7"
  }
 },
 "nbformat": 4,
 "nbformat_minor": 5
}
