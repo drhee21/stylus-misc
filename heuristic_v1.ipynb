{
 "cells": [
  {
   "cell_type": "markdown",
   "metadata": {},
   "source": [
    "# Heuristic V1"
   ]
  },
  {
   "cell_type": "code",
   "execution_count": null,
   "metadata": {},
   "outputs": [],
   "source": [
    "\"\"\"\n",
    "import xmlparse\n",
    "import xmltodict\n",
    "import score_strokes\n",
    "\"\"\""
   ]
  },
  {
   "cell_type": "markdown",
   "metadata": {},
   "source": [
    "## Comparing Gene Strokes to Archetypal Strokes"
   ]
  },
  {
   "cell_type": "code",
   "execution_count": null,
   "metadata": {},
   "outputs": [],
   "source": [
    "\"\"\"\n",
    "\n",
    "Parameters:\n",
    "    gene - .gene file\n",
    "    OR list of strokes, total num of strokes\n",
    "\n",
    "Return Value:\n",
    "    total_array - an array containing the total percentages\n",
    "    \n",
    "    percent_arrays - a 2D array\n",
    "\"\"\"\n",
    "def getGeneStrokePercentages()\n",
    "\n",
    "\n",
    "\n",
    "\"\"\"\n",
    "Gives a list of scores for how well a given gene stroke matches each of the archetypal strokes\n",
    "\n",
    "Parameters:\n",
    "    geneStroke - the gene stroke to be compared to all the archetypal strokes\n",
    "    \n",
    "Return Value:\n",
    "    strokePercentages - an array containing 51 elements, each representing how well geneStroke\n",
    "    compares to each of the archetypal strokes\n",
    "\"\"\"\n",
    "def getStrokePercentage()\n",
    "\n",
    "# unpickle, figure out the format of StrokeType object\n",
    "# get the p_stroke and p_ref necessary for strokeError\n",
    "# use strokeErrorScaled?\n",
    "\n",
    "\n",
    "\n",
    "\"\"\"\n",
    "*Might already be a pre-existing function for this*\n",
    "Makes it so that the elements of a given list sum to 1,\n",
    "by dividing each element by the sum of all the elements\n",
    "\n",
    "Parameters:\n",
    "    list - list to be manipulated\n",
    "\n",
    "Return value\n",
    "    stand_list - list whose elements sum to 1\n",
    "\"\"\"\n",
    "def sumToOne()"
   ]
  },
  {
   "cell_type": "markdown",
   "metadata": {},
   "source": [
    "## Comparing Gene Stroke Percentage to Archetype Stroke Counts"
   ]
  },
  {
   "cell_type": "code",
   "execution_count": null,
   "metadata": {},
   "outputs": [],
   "source": [
    "\"\"\"\n",
    "Compares the stroke percentages of a gene to the stroke counts of every archetype in order to\n",
    "find the top 100 archetypes that most closely resemble the gene\n",
    "\n",
    "Parameters:\n",
    "    geneStrokePercents - an array containing the total percentages\n",
    "    corresponding to the number of archetypal strokes present in the gene\n",
    "    \n",
    "    numStrokes - number of strokes contained in the gene\n",
    "\n",
    "Return Value:\n",
    "    archetype_matches - a list of the top 100 archetypes whose stroke counts most closely match the gene's stroke percentages\n",
    "\n",
    "\"\"\"\n",
    "def strokeCountComparison()"
   ]
  },
  {
   "cell_type": "markdown",
   "metadata": {},
   "source": [
    "## Check Archetypes for Highest Score"
   ]
  },
  {
   "cell_type": "code",
   "execution_count": null,
   "metadata": {},
   "outputs": [],
   "source": [
    "\"\"\"\n",
    "IDEAS:\n",
    "\"\"\""
   ]
  }
 ],
 "metadata": {
  "kernelspec": {
   "display_name": "Python 3",
   "language": "python",
   "name": "python3"
  },
  "language_info": {
   "codemirror_mode": {
    "name": "ipython",
    "version": 3
   },
   "file_extension": ".py",
   "mimetype": "text/x-python",
   "name": "python",
   "nbconvert_exporter": "python",
   "pygments_lexer": "ipython3",
   "version": "3.6.4"
  }
 },
 "nbformat": 4,
 "nbformat_minor": 2
}
