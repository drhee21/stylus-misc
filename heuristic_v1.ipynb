{
 "cells": [
  {
   "cell_type": "markdown",
   "metadata": {},
   "source": [
    "# Heuristic V1"
   ]
  },
  {
   "cell_type": "code",
   "execution_count": 6,
   "metadata": {},
   "outputs": [
    {
     "data": {
      "text/plain": [
       "'\\n\\n'"
      ]
     },
     "execution_count": 6,
     "metadata": {},
     "output_type": "execute_result"
    }
   ],
   "source": [
    "import pickle\n",
    "import numpy as np\n",
    "import StrokeDef\n",
    "import xmlparse\n",
    "import xmltodict\n",
    "import score_strokes\n",
    "\n",
    "from StrokeDef import loadStrokeDict\n",
    "\n",
    "\"\"\"\n",
    "\n",
    "\"\"\""
   ]
  },
  {
   "cell_type": "markdown",
   "metadata": {},
   "source": [
    "## Comparing Gene Strokes to Archetypal Strokes"
   ]
  },
  {
   "cell_type": "code",
   "execution_count": 7,
   "metadata": {},
   "outputs": [
    {
     "ename": "FileNotFoundError",
     "evalue": "[Errno 2] No such file or directory: '../Data/Strokes'",
     "output_type": "error",
     "traceback": [
      "\u001b[0;31m---------------------------------------------------------------------------\u001b[0m",
      "\u001b[0;31mFileNotFoundError\u001b[0m                         Traceback (most recent call last)",
      "\u001b[0;32m<ipython-input-7-55ebc58803e3>\u001b[0m in \u001b[0;36m<module>\u001b[0;34m()\u001b[0m\n\u001b[0;32m----> 1\u001b[0;31m \u001b[0marchetypal_strokes\u001b[0m \u001b[0;34m=\u001b[0m \u001b[0mloadStrokeDict\u001b[0m\u001b[0;34m(\u001b[0m\u001b[0;34m)\u001b[0m\u001b[0;34m\u001b[0m\u001b[0m\n\u001b[0m\u001b[1;32m      2\u001b[0m \u001b[0;34m\u001b[0m\u001b[0m\n\u001b[1;32m      3\u001b[0m \"\"\"\n\u001b[1;32m      4\u001b[0m \u001b[0;34m\u001b[0m\u001b[0m\n\u001b[1;32m      5\u001b[0m \u001b[0mParameters\u001b[0m\u001b[0;34m:\u001b[0m\u001b[0;34m\u001b[0m\u001b[0m\n",
      "\u001b[0;32m~/Stylus_Scoring_Generalization/StrokeDef.py\u001b[0m in \u001b[0;36mloadStrokeDict\u001b[0;34m()\u001b[0m\n\u001b[1;32m     81\u001b[0m \u001b[0;32mdef\u001b[0m \u001b[0mloadStrokeDict\u001b[0m\u001b[0;34m(\u001b[0m\u001b[0;34m)\u001b[0m\u001b[0;34m:\u001b[0m \u001b[0;31m#load strokes as a dictionary, name is the key, value is the stroke type\u001b[0m\u001b[0;34m\u001b[0m\u001b[0m\n\u001b[1;32m     82\u001b[0m     \u001b[0mstrokeDict\u001b[0m \u001b[0;34m=\u001b[0m \u001b[0;34m{\u001b[0m\u001b[0;34m}\u001b[0m\u001b[0;34m\u001b[0m\u001b[0m\n\u001b[0;32m---> 83\u001b[0;31m     \u001b[0;32mfor\u001b[0m \u001b[0mfileName\u001b[0m \u001b[0;32min\u001b[0m \u001b[0mos\u001b[0m\u001b[0;34m.\u001b[0m\u001b[0mlistdir\u001b[0m\u001b[0;34m(\u001b[0m\u001b[0;34m\"../Data/Strokes\"\u001b[0m\u001b[0;34m)\u001b[0m\u001b[0;34m:\u001b[0m\u001b[0;34m\u001b[0m\u001b[0m\n\u001b[0m\u001b[1;32m     84\u001b[0m         \u001b[0;32mif\u001b[0m\u001b[0;34m(\u001b[0m\u001b[0;34m\".pickle\"\u001b[0m \u001b[0;32min\u001b[0m \u001b[0mfileName\u001b[0m\u001b[0;34m)\u001b[0m\u001b[0;34m:\u001b[0m \u001b[0;31m#otherwise skip file\u001b[0m\u001b[0;34m\u001b[0m\u001b[0m\n\u001b[1;32m     85\u001b[0m             \u001b[0mstroke\u001b[0m \u001b[0;34m=\u001b[0m \u001b[0mloadStroke\u001b[0m\u001b[0;34m(\u001b[0m\u001b[0mfileName\u001b[0m\u001b[0;34m,\u001b[0m \u001b[0mextension\u001b[0m\u001b[0;34m=\u001b[0m\u001b[0;34m\"\"\u001b[0m\u001b[0;34m)\u001b[0m\u001b[0;34m\u001b[0m\u001b[0m\n",
      "\u001b[0;31mFileNotFoundError\u001b[0m: [Errno 2] No such file or directory: '../Data/Strokes'"
     ]
    }
   ],
   "source": [
    "archetypal_strokes = loadStrokeDict()\n",
    "\n",
    "\"\"\"\n",
    "\n",
    "Parameters:\n",
    "    gene - .gene file\n",
    "    OR list of strokes, total num of strokes\n",
    "\n",
    "Return Value:\n",
    "    total_array - an array containing the total percentages\n",
    "    \n",
    "    percent_arrays - a 2D array\n",
    "\"\"\"\n",
    "#def getGeneStrokePercentages():\n",
    "\n",
    "    # char_data = loadGeometryBases(data_dir)\n",
    "\n",
    "\n",
    "\n",
    "\"\"\"\n",
    "Gives a list of scores for how well a given gene stroke matches each of the archetypal strokes\n",
    "\n",
    "Parameters:\n",
    "    geneStroke - the gene stroke to be compared to all the archetypal strokes\n",
    "    \n",
    "Return Value:\n",
    "    strokePercentages - an array containing 51 elements, each representing how well geneStroke\n",
    "    compares to each of the archetypal strokes\n",
    "\"\"\"\n",
    "def getStrokePercentage(g_points, g_frac_prog):\n",
    "    \n",
    "    errors = [] # need to convert errors to scores, what is maximum error?  \n",
    "    for key in archetypal_strokes:\n",
    "        points = archetypal_strokes[key].arial\n",
    "        frac_prog = getFractionalProgress(points)\n",
    "        error = strokeErrorScaled(g_points, g_frac_prog, points, frac_prog)\n",
    "        errors.append(error)\n",
    "\n",
    "# unpickle, figure out the format of StrokeType object\n",
    "# get the p_stroke and p_ref necessary for strokeError\n",
    "# use strokeErrorScaled?\n",
    "\n",
    "\n",
    "\"\"\"\n",
    "\"\"\"\n",
    "def getFractionalProgress(point_list):\n",
    "    dists = [0]\n",
    "    for i in range(len(point_list)-1):\n",
    "        dists.append((point_list[i]-point_list[i+1])+dists[-1])\n",
    "    dists = np.array(dists)\n",
    "    dists /= dists.max()\n",
    "    return dists\n",
    "\n",
    "\n",
    "\"\"\"\n",
    "*Might already be a pre-existing function for this*\n",
    "Makes it so that the elements of a given list sum to 1,\n",
    "by dividing each element by the sum of all the elements\n",
    "\n",
    "Parameters:\n",
    "    list - list to be manipulated\n",
    "\n",
    "Return value\n",
    "    stand_list - list whose elements sum to 1\n",
    "\"\"\"\n",
    "#def sumToOne()"
   ]
  },
  {
   "cell_type": "markdown",
   "metadata": {},
   "source": [
    "## Comparing Gene Stroke Percentage to Archetype Stroke Counts"
   ]
  },
  {
   "cell_type": "code",
   "execution_count": null,
   "metadata": {},
   "outputs": [],
   "source": [
    "\"\"\"\n",
    "Compares the stroke percentages of a gene to the stroke counts of every archetype in order to\n",
    "find the top 100 archetypes that most closely resemble the gene\n",
    "\n",
    "Parameters:\n",
    "    geneStrokePercents - an array containing the total percentages\n",
    "    corresponding to the number of archetypal strokes present in the gene\n",
    "    \n",
    "    numStrokes - number of strokes contained in the gene\n",
    "\n",
    "Return Value:\n",
    "    archetype_matches - a list of the top 50 archetypes whose stroke counts most closely match the gene's stroke percentages\n",
    "\n",
    "\"\"\"\n",
    "def strokeCountComparison()"
   ]
  },
  {
   "cell_type": "markdown",
   "metadata": {},
   "source": [
    "## Check Archetypes for Highest Score"
   ]
  },
  {
   "cell_type": "code",
   "execution_count": null,
   "metadata": {},
   "outputs": [],
   "source": [
    "\"\"\"\n",
    "IDEAS:\n",
    "\"\"\""
   ]
  },
  {
   "cell_type": "code",
   "execution_count": null,
   "metadata": {},
   "outputs": [],
   "source": [
    "# Test\n",
    "stroke_name = \"H1\"\n",
    "archetypal_strokes = loadStrokeDict()\n",
    "points = archetypal_strokes[stroke_name]"
   ]
  }
 ],
 "metadata": {
  "kernelspec": {
   "display_name": "Python 3",
   "language": "python",
   "name": "python3"
  },
  "language_info": {
   "codemirror_mode": {
    "name": "ipython",
    "version": 3
   },
   "file_extension": ".py",
   "mimetype": "text/x-python",
   "name": "python",
   "nbconvert_exporter": "python",
   "pygments_lexer": "ipython3",
   "version": "3.6.4"
  }
 },
 "nbformat": 4,
 "nbformat_minor": 2
}
