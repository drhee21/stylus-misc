{
 "cells": [
  {
   "cell_type": "code",
   "execution_count": 14,
   "id": "cdeaff59-baae-43fd-b0e2-3c66864d1547",
   "metadata": {},
   "outputs": [],
   "source": [
    "import csv\n",
    "import os\n",
    "from pathlib import Path\n",
    "\n",
    "import numpy as np\n",
    "\n",
    "from compare_genes import getScores\n",
    "from xmlparse import loadRef, loadGeometryBases, getXmlScore, minXml\n",
    "from score_strokes import alignStrokes\n",
    "from exhaustive import exhaustScore"
   ]
  },
  {
   "cell_type": "markdown",
   "id": "f0b1c7e8-2656-444e-8ac0-ed0f046528f3",
   "metadata": {},
   "source": [
    "## Scoring Functions"
   ]
  },
  {
   "cell_type": "code",
   "execution_count": 15,
   "id": "e14054b6-1e61-4ee2-b0d2-c9c87ae26db0",
   "metadata": {},
   "outputs": [],
   "source": [
    "# Obtaining scores through heuristic algorithm\n",
    "def heuristicScores(algo, ref_char, ref_data, char_data):\n",
    "    heuristic_alignments = []\n",
    "    heuristic_scores = []\n",
    "    ref_geometry, ref_progress_percentage, output_size = ref_data\n",
    "    g_data, _, base_data, stroke_sets, _, f_names = char_data\n",
    "    for (geometry_length, bases, stroke_set, _, f_name) in zip(g_data, base_data, stroke_sets, _, f_names):\n",
    "        geometry, progress_percentage = geometry_length\n",
    "        heuristic_alignment = np.array(algo(geometry, ref_geometry, progress_percentage, ref_progress_percentage))+1\n",
    "        heuristic_alignments.append(heuristic_alignment)\n",
    "        heuristic_xml = minXml(ref_char, bases, stroke_set, heuristic_alignment)\n",
    "        heuristic_score = getXmlScore(heuristic_xml)\n",
    "        heuristic_scores.append(heuristic_score)\n",
    "    return heuristic_scores, heuristic_alignments\n",
    "\n",
    "# Obtaining scores through exhaustive search\n",
    "def exhaustiveScores(ref_char, data_dir, char_data):\n",
    "    g_data, han_chars, base_data, _, _, f_names = char_data\n",
    "    exhaustive_scores = []\n",
    "    for (gl, han_char, bases, f_name) in zip(g_data, han_chars, base_data, f_names):\n",
    "        g, l = gl\n",
    "        original_score = exhaustScore(ref_char, f_name, data_dir, force_refresh=True, save=False)\n",
    "        exhaustive_scores.append(original_score)\n",
    "    return exhaustive_scores"
   ]
  },
  {
   "cell_type": "markdown",
   "id": "be21636b-d4e6-418b-b620-6210c0f0570c",
   "metadata": {},
   "source": [
    "## Gene/Archetype Combos"
   ]
  },
  {
   "cell_type": "code",
   "execution_count": 16,
   "id": "8a609e68-93ab-410c-8aaf-b6c1c14d5403",
   "metadata": {},
   "outputs": [
    {
     "ename": "FileNotFoundError",
     "evalue": "[Errno 2] No such file or directory: 'Reference/5000/5411.han'",
     "output_type": "error",
     "traceback": [
      "\u001b[0;31m---------------------------------------------------------------------------\u001b[0m",
      "\u001b[0;31mFileNotFoundError\u001b[0m                         Traceback (most recent call last)",
      "Cell \u001b[0;32mIn[16], line 28\u001b[0m\n\u001b[1;32m     26\u001b[0m stroke_orders \u001b[38;5;241m=\u001b[39m char_data[\u001b[38;5;241m4\u001b[39m]\n\u001b[1;32m     27\u001b[0m heuristic_scores, heuristic_alignments \u001b[38;5;241m=\u001b[39m heuristicScores(alignStrokes, ref_char, ref_data, char_data)\n\u001b[0;32m---> 28\u001b[0m exhaustive_scores \u001b[38;5;241m=\u001b[39m exhaustiveScores(ref_char, data_dir, char_data)\n\u001b[1;32m     29\u001b[0m \u001b[38;5;28;01mfor\u001b[39;00m (gene_name, heuristic_score, exhaustive_score, stroke_order, heuristic_alignment) \u001b[38;5;129;01min\u001b[39;00m \u001b[38;5;28mzip\u001b[39m(gene_names, heuristic_scores, exhaustive_scores, stroke_orders, heuristic_alignments):\n\u001b[1;32m     30\u001b[0m     writer\u001b[38;5;241m.\u001b[39mwriterow([gene_name, ref_char, exhaustive_score, heuristic_score, stroke_order, heuristic_alignment])\n",
      "Cell \u001b[0;32mIn[15], line 22\u001b[0m, in \u001b[0;36mexhaustiveScores\u001b[0;34m(ref_char, data_dir, char_data)\u001b[0m\n\u001b[1;32m     20\u001b[0m \u001b[38;5;28;01mfor\u001b[39;00m (gl, han_char, bases, f_name) \u001b[38;5;129;01min\u001b[39;00m \u001b[38;5;28mzip\u001b[39m(g_data, han_chars, base_data, f_names):\n\u001b[1;32m     21\u001b[0m     g, l \u001b[38;5;241m=\u001b[39m gl\n\u001b[0;32m---> 22\u001b[0m     original_score \u001b[38;5;241m=\u001b[39m exhaustScore(ref_char, f_name, data_dir, force_refresh\u001b[38;5;241m=\u001b[39m\u001b[38;5;28;01mTrue\u001b[39;00m, save\u001b[38;5;241m=\u001b[39m\u001b[38;5;28;01mFalse\u001b[39;00m)\n\u001b[1;32m     23\u001b[0m     exhaustive_scores\u001b[38;5;241m.\u001b[39mappend(original_score)\n\u001b[1;32m     24\u001b[0m \u001b[38;5;28;01mreturn\u001b[39;00m exhaustive_scores\n",
      "File \u001b[0;32m~/stylus-misc/exhaustive.py:91\u001b[0m, in \u001b[0;36mexhaustScore\u001b[0;34m(ref_char, f_name, data_dir, exhaust_dir, force_refresh, save, file_prefix)\u001b[0m\n\u001b[1;32m     89\u001b[0m exhaust_maxes \u001b[38;5;241m=\u001b[39m []\n\u001b[1;32m     90\u001b[0m \u001b[38;5;28;01mif\u001b[39;00m \u001b[38;5;129;01mnot\u001b[39;00m os\u001b[38;5;241m.\u001b[39mpath\u001b[38;5;241m.\u001b[39misfile(exhaust_name) \u001b[38;5;129;01mor\u001b[39;00m force_refresh:\n\u001b[0;32m---> 91\u001b[0m     \u001b[38;5;28;01mfor\u001b[39;00m e \u001b[38;5;129;01min\u001b[39;00m computeExhaustive(ref_char, [f_name], data_dir, save \u001b[38;5;241m=\u001b[39m save, save_file \u001b[38;5;241m=\u001b[39m exhaust_name):\n\u001b[1;32m     92\u001b[0m         exhaust_maxes\u001b[38;5;241m.\u001b[39mappend(e\u001b[38;5;241m.\u001b[39mmax())\n\u001b[1;32m     93\u001b[0m \u001b[38;5;28;01melse\u001b[39;00m:\n",
      "File \u001b[0;32m~/stylus-misc/exhaustive.py:32\u001b[0m, in \u001b[0;36mcomputeExhaustive\u001b[0;34m(ref_char, f_read, data_dir, exhaust_dir, prog_interval, save, xml_dir, save_file)\u001b[0m\n\u001b[1;32m     31\u001b[0m \u001b[38;5;28;01mdef\u001b[39;00m \u001b[38;5;21mcomputeExhaustive\u001b[39m(ref_char, f_read, data_dir, exhaust_dir \u001b[38;5;241m=\u001b[39m \u001b[38;5;124m\"\u001b[39m\u001b[38;5;124mExhaustive\u001b[39m\u001b[38;5;124m\"\u001b[39m, prog_interval \u001b[38;5;241m=\u001b[39m \u001b[38;5;241m100\u001b[39m, save \u001b[38;5;241m=\u001b[39m \u001b[38;5;28;01mTrue\u001b[39;00m, xml_dir \u001b[38;5;241m=\u001b[39m \u001b[38;5;124m\"\u001b[39m\u001b[38;5;124mGenXml/Exhaustive\u001b[39m\u001b[38;5;124m\"\u001b[39m, save_file \u001b[38;5;241m=\u001b[39m \u001b[38;5;124m\"\u001b[39m\u001b[38;5;124m\"\u001b[39m):\n\u001b[0;32m---> 32\u001b[0m     ref_g, ref_l, output_size \u001b[38;5;241m=\u001b[39m loadRef(ref_char, \u001b[38;5;124m\"\u001b[39m\u001b[38;5;124mReference\u001b[39m\u001b[38;5;124m\"\u001b[39m)\n\u001b[1;32m     33\u001b[0m     g_data, _, base_data, stroke_sets, _, f_names \u001b[38;5;241m=\u001b[39m loadGeometryBases(data_dir, output_size, f_read \u001b[38;5;241m=\u001b[39m f_read)\n\u001b[1;32m     34\u001b[0m     n_strokes \u001b[38;5;241m=\u001b[39m \u001b[38;5;28mlen\u001b[39m(ref_g)\n",
      "File \u001b[0;32m~/stylus-misc/xmlparse.py:134\u001b[0m, in \u001b[0;36mloadRef\u001b[0;34m(han_char, ref_dir)\u001b[0m\n\u001b[1;32m    132\u001b[0m frac_dists \u001b[38;5;241m=\u001b[39m []\n\u001b[1;32m    133\u001b[0m ref_path \u001b[38;5;241m=\u001b[39m \u001b[38;5;124mf\u001b[39m\u001b[38;5;124m\"\u001b[39m\u001b[38;5;132;01m{\u001b[39;00mref_dir\u001b[38;5;132;01m}\u001b[39;00m\u001b[38;5;124m/\u001b[39m\u001b[38;5;132;01m{\u001b[39;00mhan_char[\u001b[38;5;241m0\u001b[39m]\u001b[38;5;132;01m}\u001b[39;00m\u001b[38;5;124m000/\u001b[39m\u001b[38;5;132;01m{\u001b[39;00mhan_char\u001b[38;5;132;01m}\u001b[39;00m\u001b[38;5;124m.han\u001b[39m\u001b[38;5;124m\"\u001b[39m\n\u001b[0;32m--> 134\u001b[0m ref_xml \u001b[38;5;241m=\u001b[39m \u001b[38;5;28mopen\u001b[39m(ref_path, \u001b[38;5;124m\"\u001b[39m\u001b[38;5;124mr\u001b[39m\u001b[38;5;124m\"\u001b[39m)\u001b[38;5;241m.\u001b[39mread()\n\u001b[1;32m    135\u001b[0m root \u001b[38;5;241m=\u001b[39m xmltodict\u001b[38;5;241m.\u001b[39mparse(ref_xml)\n\u001b[1;32m    136\u001b[0m bounds \u001b[38;5;241m=\u001b[39m root[\u001b[38;5;124m\"\u001b[39m\u001b[38;5;124mhanDefinition\u001b[39m\u001b[38;5;124m\"\u001b[39m][\u001b[38;5;124m\"\u001b[39m\u001b[38;5;124mbounds\u001b[39m\u001b[38;5;124m\"\u001b[39m]\n",
      "\u001b[0;31mFileNotFoundError\u001b[0m: [Errno 2] No such file or directory: 'Reference/5000/5411.han'"
     ]
    }
   ],
   "source": [
    "ref_dir = f'{str(Path.home())}/Stylus_Scoring_Generalization/Reference' # archetype directory\n",
    "data_dir = f'{str(Path.home())}/Stylus_Scoring_Generalization/NewGenes' # gene directory\n",
    "\n",
    "# Retrieve all reference characters\n",
    "ref_chars = []\n",
    "dirs = [f.path for f in os.scandir(ref_dir) if f.is_dir()]\n",
    "for d in dirs:\n",
    "    ref_chars.extend(f.split(\".\")[0] for f in os.listdir(d))\n",
    "ref_chars = list(filter(None, ref_chars))\n",
    "\n",
    "# Retrieve scores for every gene/archetype combo and write data to CSV\n",
    "with open('test.csv', 'w', newline='') as cf:\n",
    "    writer = csv.writer(cf)\n",
    "    writer.writerow([\"GeneId\", \"ArchetypeId\", \"ExhaustiveScore\", \"HeuristicScore\", \"GeneMap\", \"HeuristicMap\"])\n",
    "gene_names = os.listdir(data_dir)\n",
    "gene_names.sort()\n",
    "for i, g in enumerate(gene_names):\n",
    "    gene_names[i] = g.split(\".gene\")[0]\n",
    "for ref_char in ref_chars:\n",
    "    ref_data = loadRef(ref_char, ref_dir)\n",
    "    char_data = loadGeometryBases(data_dir, ref_data[2])\n",
    "    for stroke in char_data[0][0]:\n",
    "        if len(ref_data[0]) != len(stroke):\n",
    "            break\n",
    "    else:\n",
    "        stroke_orders = char_data[4]\n",
    "        heuristic_scores, heuristic_alignments = heuristicScores(alignStrokes, ref_char, ref_data, char_data)\n",
    "        exhaustive_scores = exhaustiveScores(ref_char, data_dir, char_data)\n",
    "        for (gene_name, heuristic_score, exhaustive_score, stroke_order, heuristic_alignment) in zip(gene_names, heuristic_scores, exhaustive_scores, stroke_orders, heuristic_alignments):\n",
    "            writer.writerow([gene_name, ref_char, exhaustive_score, heuristic_score, stroke_order, heuristic_alignment])"
   ]
  }
 ],
 "metadata": {
  "kernelspec": {
   "display_name": "Python 3 (ipykernel)",
   "language": "python",
   "name": "python3"
  },
  "language_info": {
   "codemirror_mode": {
    "name": "ipython",
    "version": 3
   },
   "file_extension": ".py",
   "mimetype": "text/x-python",
   "name": "python",
   "nbconvert_exporter": "python",
   "pygments_lexer": "ipython3",
   "version": "3.11.7"
  }
 },
 "nbformat": 4,
 "nbformat_minor": 5
}
