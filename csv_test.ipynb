{
 "cells": [
  {
   "cell_type": "code",
   "execution_count": null,
   "id": "cdeaff59-baae-43fd-b0e2-3c66864d1547",
   "metadata": {},
   "outputs": [],
   "source": [
    "import csv\n",
    "import os\n",
    "\n",
    "import numpy as np\n",
    "\n",
    "from compare_genes import getScores\n",
    "from xmlparse import loadRef, loadGeometryBases, getXmlScore, minXml\n",
    "from score_strokes import alignStrokes\n",
    "from exhaustive import exhaustScore"
   ]
  },
  {
   "cell_type": "markdown",
   "id": "f0b1c7e8-2656-444e-8ac0-ed0f046528f3",
   "metadata": {},
   "source": [
    "## Scoring Functions"
   ]
  },
  {
   "cell_type": "code",
   "execution_count": null,
   "id": "e14054b6-1e61-4ee2-b0d2-c9c87ae26db0",
   "metadata": {},
   "outputs": [],
   "source": [
    "# Obtaining scores through heuristic algorithm without getScores\n",
    "def heuristicScores(algo, ref_char, char_data):\n",
    "    ref_g, ref_l, output_size = loadRef(ref_char, \"Reference\")\n",
    "    g_data, _, base_data, stroke_sets, _, f_names = char_data\n",
    "    heuristic_scores = []\n",
    "    for (gl, bases, stroke_set, f_name) in zip(g_data, base_data, stroke_sets, f_names):\n",
    "        g, l = gl\n",
    "        heuristic_alignment = np.array(algo(g, ref_g, l, ref_l))+1\n",
    "        heuristic_xml = minXml(ref_char, bases, stroke_set, heuristic_alignment)\n",
    "        heuristic_score = getXmlScore(heuristic_xml)\n",
    "        heuristic_scores.append(heuristic_score)\n",
    "    return heuristic_scores\n",
    "\n",
    "# Obtaining scores through heuristic algorithm with getScores\n",
    "def heuristicScoresShort(algo, ref_char, data_dir):\n",
    "    heuristic_scores, _, marks = getScores(algo, ref_char, data_dir)\n",
    "    return heuristic_scores, marks\n",
    "\n",
    "# Obtaining scores through exhaustive search\n",
    "def exhaustiveScores(ref_char, char_data, data_dir):\n",
    "    g_data, han_chars, base_data, _, _, f_names = char_data\n",
    "    exhaustive_scores = []\n",
    "    for (gl, han_char, bases, f_name) in zip(g_data, han_chars, base_data, f_names):\n",
    "        g, l = gl\n",
    "        original_score = exhaustScore(ref_char, f_name, data_dir, force_refresh=True, save=False)\n",
    "        exhaustive_scores.append(original_score)\n",
    "    return exhaustive_scores"
   ]
  },
  {
   "cell_type": "code",
   "execution_count": null,
   "id": "a68bd4d2-59bd-4b72-861d-8b294a3c7b79",
   "metadata": {},
   "outputs": [],
   "source": [
    "##"
   ]
  }
 ],
 "metadata": {
  "kernelspec": {
   "display_name": "Python 3 (ipykernel)",
   "language": "python",
   "name": "python3"
  },
  "language_info": {
   "codemirror_mode": {
    "name": "ipython",
    "version": 3
   },
   "file_extension": ".py",
   "mimetype": "text/x-python",
   "name": "python",
   "nbconvert_exporter": "python",
   "pygments_lexer": "ipython3",
   "version": "3.11.7"
  }
 },
 "nbformat": 4,
 "nbformat_minor": 5
}
