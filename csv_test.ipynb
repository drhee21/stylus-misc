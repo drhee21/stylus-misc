{
 "cells": [
  {
   "cell_type": "code",
   "execution_count": 25,
   "id": "cdeaff59-baae-43fd-b0e2-3c66864d1547",
   "metadata": {},
   "outputs": [],
   "source": [
    "import csv\n",
    "import os\n",
    "from pathlib import Path\n",
    "\n",
    "import numpy as np\n",
    "\n",
    "from compare_genes import getScores\n",
    "from xmlparse import loadRef, loadGeometryBases, getXmlScore, minXml\n",
    "from score_strokes import alignStrokes\n",
    "from exhaustive import exhaustScore"
   ]
  },
  {
   "cell_type": "markdown",
   "id": "f0b1c7e8-2656-444e-8ac0-ed0f046528f3",
   "metadata": {},
   "source": [
    "## Scoring Functions"
   ]
  },
  {
   "cell_type": "code",
   "execution_count": 26,
   "id": "e14054b6-1e61-4ee2-b0d2-c9c87ae26db0",
   "metadata": {},
   "outputs": [],
   "source": [
    "# Obtaining scores through heuristic algorithm without getScores\n",
    "def heuristicScores(algo, ref_char, data_dir):\n",
    "    ref_g, ref_l, output_size = loadRef(ref_char, \"Reference\")\n",
    "    g_data, _, base_data, stroke_sets, _, f_names= loadGeometryBases(data_dir, output_size)\n",
    "    heuristic_scores = []\n",
    "    for (gl, bases, stroke_set, f_name) in zip(g_data, base_data, stroke_sets, f_names):\n",
    "        g, l = gl\n",
    "        heuristic_alignment = np.array(algo(g, ref_g, l, ref_l))+1\n",
    "        heuristic_xml = minXml(ref_char, bases, stroke_set, heuristic_alignment)\n",
    "        heuristic_score = getXmlScore(heuristic_xml)\n",
    "        heuristic_scores.append(heuristic_score)\n",
    "    return heuristic_scores\n",
    "\n",
    "# Obtaining scores through heuristic algorithm with getScores\n",
    "def heuristicScoresShort(algo, ref_char, data_dir):\n",
    "    heuristic_scores, _, marks = getScores(algo, ref_char, data_dir)\n",
    "    return heuristic_scores, marks\n",
    "\n",
    "# Obtaining scores through exhaustive search\n",
    "def exhaustiveScores(ref_char, data_dir):\n",
    "    _, _, output_size = loadRef(ref_char, \"Reference\")\n",
    "    g_data, han_chars, base_data, _, _, f_names = loadGeometryBases(data_dir, output_size)\n",
    "    exhaustive_scores = []\n",
    "    for (gl, han_char, bases, f_name) in zip(g_data, han_chars, base_data, f_names):\n",
    "        g, l = gl\n",
    "        original_score = exhaustScore(ref_char, f_name, data_dir, force_refresh=True, save=False)\n",
    "        exhaustive_scores.append(original_score)\n",
    "    return exhaustive_scores"
   ]
  },
  {
   "cell_type": "markdown",
   "id": "be21636b-d4e6-418b-b620-6210c0f0570c",
   "metadata": {},
   "source": [
    "## Gene/Archetype Combos"
   ]
  },
  {
   "cell_type": "code",
   "execution_count": 27,
   "id": "8a609e68-93ab-410c-8aaf-b6c1c14d5403",
   "metadata": {},
   "outputs": [],
   "source": [
    "data_dir = f'{str(Path.home())}/Stylus_Scoring_Generalization/NewGenes' # gene directory\n",
    "ref_dir = f'{str(Path.home())}/Stylus_Scoring_Generalization/Reference' # archetype directory\n",
    "\n",
    "# Retrieve all reference characters\n",
    "ref_chars = []\n",
    "dirs = [f.path for f in os.scandir(ref_dir) if f.is_dir()]\n",
    "for d in dirs:\n",
    "    ref_chars.extend(f.split(\".\")[0] for f in os.listdir(d))\n",
    "ref_chars = list(filter(None, ref_chars))"
   ]
  },
  {
   "cell_type": "code",
   "execution_count": null,
   "id": "b9e7f460-3457-4410-a4f4-79ed769787fb",
   "metadata": {},
   "outputs": [],
   "source": []
  }
 ],
 "metadata": {
  "kernelspec": {
   "display_name": "Python 3 (ipykernel)",
   "language": "python",
   "name": "python3"
  },
  "language_info": {
   "codemirror_mode": {
    "name": "ipython",
    "version": 3
   },
   "file_extension": ".py",
   "mimetype": "text/x-python",
   "name": "python",
   "nbconvert_exporter": "python",
   "pygments_lexer": "ipython3",
   "version": "3.11.7"
  }
 },
 "nbformat": 4,
 "nbformat_minor": 5
}
