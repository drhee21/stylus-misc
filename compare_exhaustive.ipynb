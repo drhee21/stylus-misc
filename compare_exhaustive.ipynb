{
 "cells": [
  {
   "cell_type": "code",
   "execution_count": 31,
   "id": "bc5acfd0-8cdc-45f3-b9bd-3ec0cd7dcdbe",
   "metadata": {},
   "outputs": [],
   "source": [
    "from pathlib import Path\n",
    "\n",
    "import os\n",
    "\n",
    "import numpy as np\n",
    "import pandas as pd\n",
    "import xmltodict\n",
    "\n",
    "from score_strokes import alignStrokes\n",
    "from xmlparse import loadGeometryBases, getXmlScore, minXml"
   ]
  },
  {
   "cell_type": "markdown",
   "id": "5ca49382-a17b-41d7-8820-2700096e744f",
   "metadata": {},
   "source": [
    "## Exhaustive Comparison Function"
   ]
  },
  {
   "cell_type": "code",
   "execution_count": 32,
   "id": "861faa9a-614b-4ece-86ad-6e5f2d1fe9ed",
   "metadata": {},
   "outputs": [
    {
     "data": {
      "text/plain": [
       "\"\\nFunction to compare a heuristic algorithm's accuracy and performance against the exhaustive search.\\n\""
      ]
     },
     "execution_count": 32,
     "metadata": {},
     "output_type": "execute_result"
    }
   ],
   "source": [
    "\"\"\"\n",
    "Function to compare a heuristic algorithm's accuracy and performance against the exhaustive search.\n",
    "\"\"\"\n",
    "#def compareExhaustive()"
   ]
  },
  {
   "cell_type": "markdown",
   "id": "8e4fa38c-9755-4a5b-a9c7-d81e0811e3f9",
   "metadata": {},
   "source": [
    "## Scoring Functions"
   ]
  },
  {
   "cell_type": "code",
   "execution_count": 33,
   "id": "6f12ed73-0f93-4812-a9e4-e4c0d42a6e7c",
   "metadata": {},
   "outputs": [],
   "source": [
    "# Edited from xmlparse.py\n",
    "def loadRef(ref_char, ref_dir):\n",
    "    stroke_list = []\n",
    "    frac_dists = []\n",
    "    ref_path = f'{ref_dir}/{ref_char}.han'\n",
    "    ref_xml = open(ref_path, \"r\").read()\n",
    "    root = xmltodict.parse(ref_xml)\n",
    "    bounds = root[\"hanDefinition\"][\"bounds\"]\n",
    "    x_min, y_min, x_max, y_max = (float(bounds[\"@left\"]), float(bounds[\"@bottom\"]), float(bounds[\"@right\"]), float(bounds[\"@top\"]))\n",
    "    scale = (int(x_max-x_min), int(y_max-y_min))\n",
    "    strokes = root[\"hanDefinition\"][\"strokes\"][\"stroke\"]\n",
    "    if isinstance(strokes, dict):\n",
    "        strokes = [strokes]\n",
    "    for stroke in strokes:\n",
    "        points = stroke[\"points\"][\"forward\"]\n",
    "        point_arr = []\n",
    "        frac_arr = []\n",
    "        for point in points[\"pointDistance\"]:\n",
    "            point_arr.append((float(point[\"@x\"])-x_min,\n",
    "                               float(point[\"@y\"])-y_min))\n",
    "            frac_arr.append(float(point[\"@fractionalDistance\"]))\n",
    "        stroke_list.append(np.array(point_arr))\n",
    "        frac_dists.append(np.array(frac_arr))\n",
    "    return stroke_list, frac_dists, scale\n",
    "\n",
    "# Obtaining scores through heuristic algorithm\n",
    "def heuristicScores(algo, ref_char, ref_data, char_data):\n",
    "    heuristic_alignments = []\n",
    "    heuristic_scores = []\n",
    "    ref_geometry, ref_progress_percentage, output_size = ref_data\n",
    "    g_data, _, base_data, stroke_sets, _, _ = char_data\n",
    "    for (geometry_length, bases, stroke_set) in zip(g_data, base_data, stroke_sets):\n",
    "        geometry, progress_percentage = geometry_length\n",
    "        heuristic_alignment = np.array(algo(geometry, ref_geometry, progress_percentage, ref_progress_percentage))+1\n",
    "        heuristic_alignments.append(heuristic_alignment)\n",
    "        heuristic_xml = minXml(ref_char, bases, stroke_set, heuristic_alignment)\n",
    "        heuristic_score = getXmlScore(heuristic_xml)\n",
    "        heuristic_scores.append(heuristic_score)\n",
    "    return heuristic_scores, heuristic_alignments"
   ]
  },
  {
   "cell_type": "markdown",
   "id": "1588d8ae-8bab-43f3-83eb-fca7de70e7e6",
   "metadata": {},
   "source": [
    "## Data Handling Functions"
   ]
  },
  {
   "cell_type": "code",
   "execution_count": 34,
   "id": "50b93a61-358c-4c7d-9389-2c52d730879d",
   "metadata": {},
   "outputs": [],
   "source": [
    "def getArchetypes(ref_dir):\n",
    "    ref_chars = []\n",
    "    ref_datas = []\n",
    "    for _, _, f_names in os.walk(ref_dir):\n",
    "        ref_chars.extend(f.split(\".\")[0] for f in f_names)\n",
    "        ref_datas.extend(loadRef(f.split(\".\")[0], ref_dir) for f in f_names)\n",
    "    ref_chars = list(filter(None, ref_chars))\n",
    "    ref_datas = list(filter(None, ref_datas))\n",
    "    return ref_chars, ref_datas\n",
    "\n",
    "def writeData(archetypes, ref_dir, data_dir):\n",
    "    all_scores = []\n",
    "    ref_chars, ref_datas = archetypes\n",
    "    for (ref_char, ref_data) in zip(ref_chars, ref_datas):\n",
    "        char_data = loadGeometryBases(data_dir, ref_data[2])\n",
    "        for stroke in char_data[0][0]:\n",
    "            if len(ref_data[0]) != len(stroke):\n",
    "                break\n",
    "        else:\n",
    "            heuristic_scores, _ = heuristicScores(alignStrokes, ref_char, ref_data, char_data)\n",
    "            all_scores.append(heuristic_scores)\n",
    "    np.array(all_scores)\n",
    "\n",
    "#def readData():"
   ]
  },
  {
   "cell_type": "code",
   "execution_count": 35,
   "id": "dcebf6a2-eb7c-4881-bb90-97ccbe03f876",
   "metadata": {},
   "outputs": [
    {
     "name": "stderr",
     "output_type": "stream",
     "text": [
      "2024-06-10T21:40:19.869006Z [INFO ] Loaded genome  containing 1 genes - trial set to 0\n",
      "2024-06-10T21:40:19.869139Z [INFO ] TRIAL 0: Fitness is 0.001342939948137\n",
      "2024-06-10T21:40:19.882972Z [INFO ] Loaded genome  containing 1 genes - trial set to 0\n",
      "2024-06-10T21:40:19.883034Z [INFO ] TRIAL 0: Fitness is 0.000513359096713\n",
      "2024-06-10T21:40:19.938099Z [INFO ] Loaded genome  containing 1 genes - trial set to 0\n",
      "2024-06-10T21:40:19.938144Z [INFO ] TRIAL 0: Fitness is 0.000458958955706\n",
      "2024-06-10T21:40:19.942835Z [INFO ] Loaded genome  containing 1 genes - trial set to 0\n",
      "2024-06-10T21:40:19.942876Z [INFO ] TRIAL 0: Fitness is 2.919932431679134\n",
      "2024-06-10T21:40:19.958435Z [INFO ] Loaded genome  containing 1 genes - trial set to 0\n",
      "2024-06-10T21:40:19.958481Z [INFO ] TRIAL 0: Fitness is 0.000000038696358\n",
      "2024-06-10T21:40:19.963547Z [INFO ] Loaded genome  containing 1 genes - trial set to 0\n",
      "2024-06-10T21:40:19.963588Z [INFO ] TRIAL 0: Fitness is 0.000000005414955\n",
      "2024-06-10T21:40:19.976317Z [INFO ] Loaded genome  containing 1 genes - trial set to 0\n",
      "2024-06-10T21:40:19.976357Z [INFO ] TRIAL 0: Fitness is 0.000851565840596\n",
      "2024-06-10T21:40:19.982060Z [INFO ] Loaded genome  containing 1 genes - trial set to 0\n",
      "2024-06-10T21:40:19.982099Z [INFO ] TRIAL 0: Fitness is 0.002466587992254\n",
      "2024-06-10T21:40:20.019423Z [INFO ] Loaded genome  containing 1 genes - trial set to 0\n",
      "2024-06-10T21:40:20.019466Z [INFO ] TRIAL 0: Fitness is 0.000439655858790\n",
      "2024-06-10T21:40:20.025260Z [INFO ] Loaded genome  containing 1 genes - trial set to 0\n",
      "2024-06-10T21:40:20.025304Z [INFO ] TRIAL 0: Fitness is 0.000000052853837\n",
      "2024-06-10T21:40:20.037317Z [INFO ] Loaded genome  containing 1 genes - trial set to 0\n",
      "2024-06-10T21:40:20.037357Z [INFO ] TRIAL 0: Fitness is 2.615689588080243\n",
      "2024-06-10T21:40:20.042476Z [INFO ] Loaded genome  containing 1 genes - trial set to 0\n",
      "2024-06-10T21:40:20.042516Z [INFO ] TRIAL 0: Fitness is 0.000119758778600\n",
      "2024-06-10T21:40:20.071327Z [INFO ] Loaded genome  containing 1 genes - trial set to 0\n",
      "2024-06-10T21:40:20.071369Z [INFO ] TRIAL 0: Fitness is 0.074659592545396\n",
      "2024-06-10T21:40:20.075771Z [INFO ] Loaded genome  containing 1 genes - trial set to 0\n",
      "2024-06-10T21:40:20.075811Z [INFO ] TRIAL 0: Fitness is 0.000012756506034\n",
      "2024-06-10T21:40:20.088594Z [INFO ] Loaded genome  containing 1 genes - trial set to 0\n",
      "2024-06-10T21:40:20.088635Z [INFO ] TRIAL 0: Fitness is 0.002120801934778\n",
      "2024-06-10T21:40:20.093516Z [INFO ] Loaded genome  containing 1 genes - trial set to 0\n",
      "2024-06-10T21:40:20.093555Z [INFO ] TRIAL 0: Fitness is 0.000000007839494\n",
      "2024-06-10T21:40:20.130274Z [INFO ] Loaded genome  containing 1 genes - trial set to 0\n",
      "2024-06-10T21:40:20.130317Z [INFO ] TRIAL 0: Fitness is 0.002660910320626\n",
      "2024-06-10T21:40:20.135377Z [INFO ] Loaded genome  containing 1 genes - trial set to 0\n",
      "2024-06-10T21:40:20.135418Z [INFO ] TRIAL 0: Fitness is 0.000837797575650\n",
      "/home/danielr46/stylus-misc/xmlparse.py:116: RuntimeWarning: invalid value encountered in divide\n",
      "  dists /= dists.max()\n",
      "2024-06-10T21:40:20.167199Z [INFO ] Loaded genome  containing 1 genes - trial set to 0\n",
      "2024-06-10T21:40:20.167242Z [INFO ] TRIAL 0: Fitness is 0.021310411205002\n",
      "2024-06-10T21:40:20.174014Z [INFO ] Loaded genome  containing 1 genes - trial set to 0\n",
      "2024-06-10T21:40:20.174056Z [INFO ] TRIAL 0: Fitness is 0.000036726442185\n"
     ]
    },
    {
     "ename": "ValueError",
     "evalue": "64 columns passed, passed data had 10 columns",
     "output_type": "error",
     "traceback": [
      "\u001b[0;31m---------------------------------------------------------------------------\u001b[0m",
      "\u001b[0;31mAssertionError\u001b[0m                            Traceback (most recent call last)",
      "File \u001b[0;32m~/anaconda3/lib/python3.11/site-packages/pandas/core/internals/construction.py:939\u001b[0m, in \u001b[0;36m_finalize_columns_and_data\u001b[0;34m(content, columns, dtype)\u001b[0m\n\u001b[1;32m    938\u001b[0m \u001b[38;5;28;01mtry\u001b[39;00m:\n\u001b[0;32m--> 939\u001b[0m     columns \u001b[38;5;241m=\u001b[39m _validate_or_indexify_columns(contents, columns)\n\u001b[1;32m    940\u001b[0m \u001b[38;5;28;01mexcept\u001b[39;00m \u001b[38;5;167;01mAssertionError\u001b[39;00m \u001b[38;5;28;01mas\u001b[39;00m err:\n\u001b[1;32m    941\u001b[0m     \u001b[38;5;66;03m# GH#26429 do not raise user-facing AssertionError\u001b[39;00m\n",
      "File \u001b[0;32m~/anaconda3/lib/python3.11/site-packages/pandas/core/internals/construction.py:986\u001b[0m, in \u001b[0;36m_validate_or_indexify_columns\u001b[0;34m(content, columns)\u001b[0m\n\u001b[1;32m    984\u001b[0m \u001b[38;5;28;01mif\u001b[39;00m \u001b[38;5;129;01mnot\u001b[39;00m is_mi_list \u001b[38;5;129;01mand\u001b[39;00m \u001b[38;5;28mlen\u001b[39m(columns) \u001b[38;5;241m!=\u001b[39m \u001b[38;5;28mlen\u001b[39m(content):  \u001b[38;5;66;03m# pragma: no cover\u001b[39;00m\n\u001b[1;32m    985\u001b[0m     \u001b[38;5;66;03m# caller's responsibility to check for this...\u001b[39;00m\n\u001b[0;32m--> 986\u001b[0m     \u001b[38;5;28;01mraise\u001b[39;00m \u001b[38;5;167;01mAssertionError\u001b[39;00m(\n\u001b[1;32m    987\u001b[0m         \u001b[38;5;124mf\u001b[39m\u001b[38;5;124m\"\u001b[39m\u001b[38;5;132;01m{\u001b[39;00m\u001b[38;5;28mlen\u001b[39m(columns)\u001b[38;5;132;01m}\u001b[39;00m\u001b[38;5;124m columns passed, passed data had \u001b[39m\u001b[38;5;124m\"\u001b[39m\n\u001b[1;32m    988\u001b[0m         \u001b[38;5;124mf\u001b[39m\u001b[38;5;124m\"\u001b[39m\u001b[38;5;132;01m{\u001b[39;00m\u001b[38;5;28mlen\u001b[39m(content)\u001b[38;5;132;01m}\u001b[39;00m\u001b[38;5;124m columns\u001b[39m\u001b[38;5;124m\"\u001b[39m\n\u001b[1;32m    989\u001b[0m     )\n\u001b[1;32m    990\u001b[0m \u001b[38;5;28;01mif\u001b[39;00m is_mi_list:\n\u001b[1;32m    991\u001b[0m     \u001b[38;5;66;03m# check if nested list column, length of each sub-list should be equal\u001b[39;00m\n",
      "\u001b[0;31mAssertionError\u001b[0m: 64 columns passed, passed data had 10 columns",
      "\nThe above exception was the direct cause of the following exception:\n",
      "\u001b[0;31mValueError\u001b[0m                                Traceback (most recent call last)",
      "Cell \u001b[0;32mIn[35], line 5\u001b[0m\n\u001b[1;32m      2\u001b[0m data_dir \u001b[38;5;241m=\u001b[39m \u001b[38;5;124mf\u001b[39m\u001b[38;5;124m'\u001b[39m\u001b[38;5;132;01m{\u001b[39;00m\u001b[38;5;28mstr\u001b[39m(Path\u001b[38;5;241m.\u001b[39mhome())\u001b[38;5;132;01m}\u001b[39;00m\u001b[38;5;124m/Stylus_Scoring_Generalization/NewGenes\u001b[39m\u001b[38;5;124m'\u001b[39m \u001b[38;5;66;03m# gene directory\u001b[39;00m\n\u001b[1;32m      4\u001b[0m archetypes \u001b[38;5;241m=\u001b[39m getArchetypes(ref_dir)\n\u001b[0;32m----> 5\u001b[0m writeData(archetypes, ref_dir, data_dir)\n",
      "Cell \u001b[0;32mIn[34], line 39\u001b[0m, in \u001b[0;36mwriteData\u001b[0;34m(archetypes, ref_dir, data_dir)\u001b[0m\n\u001b[1;32m     37\u001b[0m         heuristic_scores, _ \u001b[38;5;241m=\u001b[39m heuristicScores(alignStrokes, ref_char, ref_data, char_data)\n\u001b[1;32m     38\u001b[0m         all_scores\u001b[38;5;241m.\u001b[39mappend(heuristic_scores)\n\u001b[0;32m---> 39\u001b[0m frame \u001b[38;5;241m=\u001b[39m genTable(all_scores, ref_chars, data_dir)\n\u001b[1;32m     40\u001b[0m frame\n",
      "Cell \u001b[0;32mIn[34], line 22\u001b[0m, in \u001b[0;36mgenTable\u001b[0;34m(all_scores, ref_chars, data_dir)\u001b[0m\n\u001b[1;32m     20\u001b[0m genes \u001b[38;5;241m=\u001b[39m pd\u001b[38;5;241m.\u001b[39mSeries(gene_names, name\u001b[38;5;241m=\u001b[39m\u001b[38;5;124m\"\u001b[39m\u001b[38;5;124mGenes\u001b[39m\u001b[38;5;124m\"\u001b[39m)\n\u001b[1;32m     21\u001b[0m frame \u001b[38;5;241m=\u001b[39m {}\n\u001b[0;32m---> 22\u001b[0m frame \u001b[38;5;241m=\u001b[39m pd\u001b[38;5;241m.\u001b[39mDataFrame\u001b[38;5;241m.\u001b[39mfrom_records(all_scores_t, columns\u001b[38;5;241m=\u001b[39mref_chars)\n\u001b[1;32m     23\u001b[0m \u001b[38;5;66;03m#this allows the label for the genes to be added to the data frame\u001b[39;00m\n\u001b[1;32m     24\u001b[0m result \u001b[38;5;241m=\u001b[39m pd\u001b[38;5;241m.\u001b[39mconcat([genes, frame], axis\u001b[38;5;241m=\u001b[39m\u001b[38;5;241m1\u001b[39m)\n",
      "File \u001b[0;32m~/anaconda3/lib/python3.11/site-packages/pandas/core/frame.py:2342\u001b[0m, in \u001b[0;36mDataFrame.from_records\u001b[0;34m(cls, data, index, exclude, columns, coerce_float, nrows)\u001b[0m\n\u001b[1;32m   2337\u001b[0m         arrays, arr_columns, result_index \u001b[38;5;241m=\u001b[39m maybe_reorder(\n\u001b[1;32m   2338\u001b[0m             arrays, arr_columns, columns, index\n\u001b[1;32m   2339\u001b[0m         )\n\u001b[1;32m   2341\u001b[0m \u001b[38;5;28;01melif\u001b[39;00m \u001b[38;5;28misinstance\u001b[39m(data, np\u001b[38;5;241m.\u001b[39mndarray):\n\u001b[0;32m-> 2342\u001b[0m     arrays, columns \u001b[38;5;241m=\u001b[39m to_arrays(data, columns)\n\u001b[1;32m   2343\u001b[0m     arr_columns \u001b[38;5;241m=\u001b[39m columns\n\u001b[1;32m   2344\u001b[0m \u001b[38;5;28;01melse\u001b[39;00m:\n",
      "File \u001b[0;32m~/anaconda3/lib/python3.11/site-packages/pandas/core/internals/construction.py:845\u001b[0m, in \u001b[0;36mto_arrays\u001b[0;34m(data, columns, dtype)\u001b[0m\n\u001b[1;32m    842\u001b[0m     data \u001b[38;5;241m=\u001b[39m [\u001b[38;5;28mtuple\u001b[39m(x) \u001b[38;5;28;01mfor\u001b[39;00m x \u001b[38;5;129;01min\u001b[39;00m data]\n\u001b[1;32m    843\u001b[0m     arr \u001b[38;5;241m=\u001b[39m _list_to_arrays(data)\n\u001b[0;32m--> 845\u001b[0m content, columns \u001b[38;5;241m=\u001b[39m _finalize_columns_and_data(arr, columns, dtype)\n\u001b[1;32m    846\u001b[0m \u001b[38;5;28;01mreturn\u001b[39;00m content, columns\n",
      "File \u001b[0;32m~/anaconda3/lib/python3.11/site-packages/pandas/core/internals/construction.py:942\u001b[0m, in \u001b[0;36m_finalize_columns_and_data\u001b[0;34m(content, columns, dtype)\u001b[0m\n\u001b[1;32m    939\u001b[0m     columns \u001b[38;5;241m=\u001b[39m _validate_or_indexify_columns(contents, columns)\n\u001b[1;32m    940\u001b[0m \u001b[38;5;28;01mexcept\u001b[39;00m \u001b[38;5;167;01mAssertionError\u001b[39;00m \u001b[38;5;28;01mas\u001b[39;00m err:\n\u001b[1;32m    941\u001b[0m     \u001b[38;5;66;03m# GH#26429 do not raise user-facing AssertionError\u001b[39;00m\n\u001b[0;32m--> 942\u001b[0m     \u001b[38;5;28;01mraise\u001b[39;00m \u001b[38;5;167;01mValueError\u001b[39;00m(err) \u001b[38;5;28;01mfrom\u001b[39;00m \u001b[38;5;21;01merr\u001b[39;00m\n\u001b[1;32m    944\u001b[0m \u001b[38;5;28;01mif\u001b[39;00m \u001b[38;5;28mlen\u001b[39m(contents) \u001b[38;5;129;01mand\u001b[39;00m contents[\u001b[38;5;241m0\u001b[39m]\u001b[38;5;241m.\u001b[39mdtype \u001b[38;5;241m==\u001b[39m np\u001b[38;5;241m.\u001b[39mobject_:\n\u001b[1;32m    945\u001b[0m     contents \u001b[38;5;241m=\u001b[39m convert_object_array(contents, dtype\u001b[38;5;241m=\u001b[39mdtype)\n",
      "\u001b[0;31mValueError\u001b[0m: 64 columns passed, passed data had 10 columns"
     ]
    }
   ],
   "source": [
    "ref_dir = f'{str(Path.home())}/Stylus_Scoring_Generalization/NewRef' # archetype directory\n",
    "data_dir = f'{str(Path.home())}/Stylus_Scoring_Generalization/NewGenes' # gene directory\n",
    "\n",
    "archetypes = getArchetypes(ref_dir)\n",
    "writeData(archetypes, ref_dir, data_dir)"
   ]
  }
 ],
 "metadata": {
  "kernelspec": {
   "display_name": "Python 3 (ipykernel)",
   "language": "python",
   "name": "python3"
  },
  "language_info": {
   "codemirror_mode": {
    "name": "ipython",
    "version": 3
   },
   "file_extension": ".py",
   "mimetype": "text/x-python",
   "name": "python",
   "nbconvert_exporter": "python",
   "pygments_lexer": "ipython3",
   "version": "3.11.7"
  }
 },
 "nbformat": 4,
 "nbformat_minor": 5
}
