{
 "cells": [
  {
   "cell_type": "markdown",
   "id": "ba3d99ea-7935-4b21-a18d-5450ef119ed2",
   "metadata": {},
   "source": [
    "# Heuristic Functions"
   ]
  },
  {
   "cell_type": "markdown",
   "id": "a8c71638-d1ea-4aef-b8f1-bdc5992ef33e",
   "metadata": {},
   "source": [
    "A walkthrough of the heuristic functions I've created using Holiday's stroke error scoring and how to understand them.\n",
    "\n",
    "The goal is to create a function that returns as high a score as possible for any given gene-archetype pairing without sacrificing speed. Aim to:\n",
    "- Reduce calls to the Stylus API (meaning generate less stroke orders to score)\n",
    "- Reduce time complexity (meaning reduce the amount of potential stroke maps to iterate through)"
   ]
  },
  {
   "cell_type": "code",
   "execution_count": 1,
   "id": "12f66628-08c6-4b2b-ad08-0ee841f7fba9",
   "metadata": {},
   "outputs": [],
   "source": [
    "import numpy as np"
   ]
  },
  {
   "cell_type": "markdown",
   "id": "b8f4e98b-e6a1-4cab-8d25-ef8892051658",
   "metadata": {},
   "source": [
    "Get used to working with NumPy arrays instead of standard Python lists. When building heuristics, avoid iteration (especially nested for loops) as that makes time complexity worse. Instead, try to vectorize where you can. NumPy has plenty of functions to work with arrays that are faster than Python's built-in methods."
   ]
  },
  {
   "cell_type": "code",
   "execution_count": 2,
   "id": "44e1ceb6-ab8e-4d1a-866c-12bdfca9e16c",
   "metadata": {},
   "outputs": [
    {
     "name": "stderr",
     "output_type": "stream",
     "text": [
      "2024-06-24T21:10:14.888105Z [INFO ] Stylus initialized - Stylus 1.5.0 [RELEASE - May 21 2024 14:06:24] (c) 2006-2009 Biologic Institute\n"
     ]
    }
   ],
   "source": [
    "from score_strokes import strokeErrorMatrix\n",
    "from xmlparse import loadGeometryBases, loadRef, getXmlScore, minXml"
   ]
  },
  {
   "cell_type": "markdown",
   "id": "49d10131-b293-4a50-a598-d5b10eee5317",
   "metadata": {},
   "source": [
    "These are functions from Holiday's code that my heuristics are built from. They are the foundation for building heuristics that I used. Make sure to read over her documentation on her repo, which is linked in the README of this repo.\n",
    "\n",
    "When first importing you should see a message that says [INFO ] Stylus initialized - Stylus...\n",
    "This message just means that Stylus is up and running correctly. Make sure that Stylus is configured correctly or else you will encounter errors.\n",
    "\n",
    "**strokeErrorMatrix** is used to generate an n*m matrix of stroke errors where n is the number of archetype strokes and m is the number of gene strokes. I have found that in certain genes the function does not generate a matrix with an equal amount of archetype strokes and gene strokes, so be careful. The smaller the stroke error, the closer the gene stroke is to the archetype stroke. When testing every viable permutation of stroke errors I have found that at least one permutation matches the exhaustive score in nearly all cases.\n",
    "\n",
    "**loadGeometryBases** loads the gene data for each file in a specified directory.\n",
    "\n",
    "**loadRef** loads the archetype data for a specific reference character.\n",
    "\n",
    "**minXml** generates the XML data necessary for Stylus to score a gene.\n",
    "\n",
    "**getXmlScore** calls the Stylus API and returns a score."
   ]
  },
  {
   "cell_type": "code",
   "execution_count": 3,
   "id": "7e1cbb8d-0c19-4fa2-be64-1c262adac9c0",
   "metadata": {},
   "outputs": [],
   "source": [
    "from pathlib import Path"
   ]
  },
  {
   "cell_type": "code",
   "execution_count": 4,
   "id": "983d31eb-9969-4c53-88fb-4c2c0c80182d",
   "metadata": {},
   "outputs": [],
   "source": [
    "ref_dir = f'{Path.home()}/Stylus_Scoring_Generalization/Reference' # archetype directory\n",
    "data_dir = f'{Path.home()}/Stylus_Scoring_Generalization/NewGenes' # gene directory\n",
    "ref_char = \"4EFB\""
   ]
  },
  {
   "cell_type": "markdown",
   "id": "9eaf508d-ac81-4451-be25-c87d18b2cd54",
   "metadata": {},
   "source": [
    "Your reference directory (where to find the archetype data) and your gene directory (where to find the gene data). You can find sample genes (keep in mind these sample genes all have six strokes) in Holiday's repo at Genes/sixgenes, I changed the directory for my own purposes.\n",
    "\n",
    "The reference character is the Unicode representation of your archetype that the genes will be scored against (see the Reference folder in Holiday's repo)."
   ]
  },
  {
   "cell_type": "code",
   "execution_count": 5,
   "id": "1bdc3ee8-6ea2-469c-9f33-e6912dbdb05d",
   "metadata": {},
   "outputs": [],
   "source": [
    "stroke_count = 6\n",
    "stroke_map = np.empty(stroke_count, dtype=int)"
   ]
  },
  {
   "cell_type": "markdown",
   "id": "d98fd5b5-1736-4bcd-8ccb-67aef0e8ea6a",
   "metadata": {},
   "source": [
    "Before getting into the actual heuristic algorithms it may be helpful to understand the fundamentals. The goal is to generate a stroke map, but what is a stroke map?\n",
    "\n",
    "A stroke map is an array matching gene strokes to archetype strokes. Stylus isn't able to determine the best match between each gene stroke and each archetype stroke, so we have to do it ourselves. For example, say I'm attempting to match a six stroke gene to a six stroke archetype. Remember that array indices begin from 0. Let's say gene stroke 0 matches up best with archetype stroke 2. The gene stroke becomes the index and the archetype stroke becomes the value in the stroke map array. In this case, stroke_map[0] = 2."
   ]
  },
  {
   "cell_type": "code",
   "execution_count": 6,
   "id": "c8758c22-7746-4aec-ab87-bb32fc3de2b0",
   "metadata": {},
   "outputs": [],
   "source": [
    "stroke_map[0] = 2"
   ]
  },
  {
   "cell_type": "markdown",
   "id": "a3375357-f8d8-474a-8f24-9cea6781e546",
   "metadata": {},
   "source": [
    "Continue on and you might end up with something like this:"
   ]
  },
  {
   "cell_type": "code",
   "execution_count": 7,
   "id": "f6998fef-833f-4cb5-80e2-7e727d4f5dc9",
   "metadata": {},
   "outputs": [
    {
     "name": "stdout",
     "output_type": "stream",
     "text": [
      "[2 1 4 0 3 5]\n"
     ]
    }
   ],
   "source": [
    "# pretend our heuristic generates this stroke map...\n",
    "stroke_map[5] = 5\n",
    "stroke_map[3] = 0\n",
    "stroke_map[1] = 1\n",
    "stroke_map[2] = 4\n",
    "stroke_map[4] = 3\n",
    "\n",
    "print(stroke_map)"
   ]
  },
  {
   "cell_type": "markdown",
   "id": "cfba37fc-9e5c-43c5-9a8a-0648375f8109",
   "metadata": {},
   "source": [
    "Again, the gene strokes are the indices and the archetype strokes are the values. This can be quite confusing but there's no way around it.\n",
    "\n",
    "In **strokeErrorMatrix**, the rows are the archetype strokes and the columns are the gene strokes. Each row-column coordinate represents the error between that archetype stroke and that gene stroke. So matrix[2][0] represents the error between archetype stroke 2 and gene stroke 0."
   ]
  },
  {
   "cell_type": "code",
   "execution_count": 8,
   "id": "a9d03f09-6c9b-4504-a37f-c87430ca8ab5",
   "metadata": {},
   "outputs": [],
   "source": [
    "from itertools import permutations\n",
    "\n",
    "def heuristic_total(strokes, ref, p_strokes, p_ref):\n",
    "    error_maps = strokeErrorMatrix(strokes, ref, p_strokes, p_ref) # Retrieve error matrix\n",
    "    least = 10000 # Since we want the smallest possible total error, the variable should be set to a high number\n",
    "    stroke_map = ()\n",
    "    for priority in permutations(range(len(ref))): # Iterate over every permutation of stroke order\n",
    "        s = np.sum(error_maps[np.arange(len(error_maps)), priority]) # Sum every error in this particular stroke order\n",
    "        if s < least: # Check if the generated sum is smaller than the current sum stored\n",
    "            least = s\n",
    "            stroke_map = priority\n",
    "    return np.argsort(stroke_map) # Swap indices and values"
   ]
  },
  {
   "cell_type": "markdown",
   "id": "85ebb485-f5e8-462d-a70a-06914d31ebd7",
   "metadata": {},
   "source": [
    "As an example, here's one of my heuristic functions. All of my heuristics are located in benchmark.py (which is in this repo). Specifically, this heuristic takes every possible ordering of errors, calculates the sum of the errors, and returns the ordering with the lowest sum."
   ]
  },
  {
   "cell_type": "code",
   "execution_count": 9,
   "id": "fe43a853-7dbe-463c-935e-29161b977004",
   "metadata": {},
   "outputs": [
    {
     "name": "stdout",
     "output_type": "stream",
     "text": [
      "Here's one score 0.2009721093859917\n",
      "And here's the stroke map that obtained this score [1 2 6 5 3 4]\n"
     ]
    }
   ],
   "source": [
    "from compare_genes import getScores\n",
    "\n",
    "heuristic_scores, heuristic_alignments, marks = getScores(heuristic_total, ref_char, data_dir)\n",
    "print(\"Here's one score\", heuristic_scores[0])\n",
    "print(\"And here's the stroke map that obtained this score\", heuristic_alignments[0])"
   ]
  },
  {
   "cell_type": "markdown",
   "id": "14977f51-235e-4915-99b6-0d1dd2bbd530",
   "metadata": {},
   "source": [
    "Holiday's API makes it very simple to obtain scores given a certain heuristic algorithm. Any function with the correct call signature (which can be found in her documentation under **getScores**) is compatible with **getScores**.\n",
    "\n",
    "But algorithms compatible with **getScores** must return a single stroke order. What if we wanted to score multiple stroke orders and compare them to find the best one?\n",
    "\n",
    "The problem with doing this is that it likely increases the algorithm's time complexity, which is not ideal. But doing so may yield more accurate scores."
   ]
  },
  {
   "cell_type": "code",
   "execution_count": 10,
   "id": "9bd5319b-5566-4897-8ff8-615fe13518ee",
   "metadata": {},
   "outputs": [],
   "source": [
    "ref_geometry, ref_progress_percentage, output_size = loadRef(ref_char, ref_dir) # READ HOLIDAY'S DOCS!\n",
    "g_data, han_chars, base_data, stroke_sets, stroke_orders, f_names = loadGeometryBases(data_dir, output_size) # READ HOLIDAY'S DOCS!"
   ]
  }
 ],
 "metadata": {
  "kernelspec": {
   "display_name": "Python 3 (ipykernel)",
   "language": "python",
   "name": "python3"
  },
  "language_info": {
   "codemirror_mode": {
    "name": "ipython",
    "version": 3
   },
   "file_extension": ".py",
   "mimetype": "text/x-python",
   "name": "python",
   "nbconvert_exporter": "python",
   "pygments_lexer": "ipython3",
   "version": "3.11.7"
  }
 },
 "nbformat": 4,
 "nbformat_minor": 5
}
